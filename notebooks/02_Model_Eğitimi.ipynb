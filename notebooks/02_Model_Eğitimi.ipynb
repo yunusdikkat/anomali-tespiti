{
 "cells": [
  {
   "cell_type": "code",
   "execution_count": 1,
   "id": "ed6243e2-a863-43ea-9fdc-19dfdcc84c6a",
   "metadata": {},
   "outputs": [],
   "source": [
    "import pandas as pd\n",
    "from sklearn.preprocessing import LabelEncoder, StandardScaler\n",
    "from sklearn.model_selection import train_test_split\n",
    "from sklearn.ensemble import RandomForestClassifier\n",
    "from sklearn.metrics import classification_report, confusion_matrix\n",
    "\n",
    "# Veriyi oku \n",
    "df = pd.read_csv(\"C:\\\\Users\\\\yunus\\\\Desktop\\\\Proje Fikirleri\\\\anomali-tespiti\\\\data\\\\raw\\\\cicids2017_sample_cleaned.csv\")\n"
   ]
  },
  {
   "cell_type": "code",
   "execution_count": 2,
   "id": "790194be-b478-4b6b-8000-3d69025a31e6",
   "metadata": {},
   "outputs": [
    {
     "name": "stdout",
     "output_type": "stream",
     "text": [
      "Etiket Dönüşümleri:\n",
      "         Label  Label_encoded\n",
      "0       BENIGN              0\n",
      "6     PortScan              3\n",
      "12        DDoS              2\n",
      "49  BruteForce              1\n"
     ]
    }
   ],
   "source": [
    "# Etiketleri sayıya çevir\n",
    "le = LabelEncoder()\n",
    "df['Label_encoded'] = le.fit_transform(df['Label'])\n",
    "\n",
    "# Etiket dönüşümünü kontrol et\n",
    "print(\"Etiket Dönüşümleri:\")\n",
    "print(df[['Label', 'Label_encoded']].drop_duplicates())\n"
   ]
  },
  {
   "cell_type": "code",
   "execution_count": 3,
   "id": "8f5b9699-e44f-4c66-b538-312dc1f8773e",
   "metadata": {},
   "outputs": [],
   "source": [
    "# Normalize edilecek özellik sütunları\n",
    "features = [\n",
    "    'Flow Duration',\n",
    "    'Total Fwd Packets',\n",
    "    'Total Backward Packets',\n",
    "    'Total Length of Fwd Packets',\n",
    "    'Total Length of Bwd Packets'\n",
    "]\n",
    "\n",
    "# StandardScaler ile normalize et\n",
    "scaler = StandardScaler()\n",
    "X_scaled = scaler.fit_transform(df[features])\n",
    "\n",
    "# DataFrame'e çevir ve etiket sütununu ekle\n",
    "X = pd.DataFrame(X_scaled, columns=features)\n",
    "y = df['Label_encoded']\n"
   ]
  },
  {
   "cell_type": "code",
   "execution_count": 4,
   "id": "2c6c75ea-62bf-4f43-9f73-ae68f19d6ef0",
   "metadata": {},
   "outputs": [
    {
     "name": "stdout",
     "output_type": "stream",
     "text": [
      "Eğitim veri seti boyutu: (800, 5)\n",
      "Test veri seti boyutu: (200, 5)\n"
     ]
    }
   ],
   "source": [
    "# Eğitim ve test verilerini ayır\n",
    "X_train, X_test, y_train, y_test = train_test_split(\n",
    "    X, y, test_size=0.2, random_state=42, stratify=y\n",
    ")\n",
    "\n",
    "print(\"Eğitim veri seti boyutu:\", X_train.shape)\n",
    "print(\"Test veri seti boyutu:\", X_test.shape)\n"
   ]
  },
  {
   "cell_type": "code",
   "execution_count": 5,
   "id": "fdc150c3-0db1-4ade-9c69-aebe6e17e327",
   "metadata": {},
   "outputs": [
    {
     "name": "stdout",
     "output_type": "stream",
     "text": [
      "Model eğitimi tamamlandı.\n"
     ]
    }
   ],
   "source": [
    "# Modeli tanımla ve eğit\n",
    "model = RandomForestClassifier(n_estimators=100, random_state=42)\n",
    "model.fit(X_train, y_train)\n",
    "\n",
    "print(\"Model eğitimi tamamlandı.\")\n"
   ]
  },
  {
   "cell_type": "code",
   "execution_count": 6,
   "id": "12f6812d-1058-4594-b7f9-adadf7ed20e6",
   "metadata": {},
   "outputs": [
    {
     "name": "stdout",
     "output_type": "stream",
     "text": [
      "🔍 Sınıflandırma Raporu:\n",
      "              precision    recall  f1-score   support\n",
      "\n",
      "      BENIGN       0.73      0.99      0.84       145\n",
      "  BruteForce       0.00      0.00      0.00         9\n",
      "        DDoS       0.25      0.03      0.06        29\n",
      "    PortScan       0.00      0.00      0.00        17\n",
      "\n",
      "    accuracy                           0.72       200\n",
      "   macro avg       0.24      0.26      0.22       200\n",
      "weighted avg       0.57      0.72      0.62       200\n",
      "\n",
      "📊 Confusion Matrix:\n",
      "[[143   0   2   0]\n",
      " [  9   0   0   0]\n",
      " [ 28   0   1   0]\n",
      " [ 16   0   1   0]]\n"
     ]
    },
    {
     "name": "stderr",
     "output_type": "stream",
     "text": [
      "C:\\Users\\yunus\\anaconda3\\Lib\\site-packages\\sklearn\\metrics\\_classification.py:1531: UndefinedMetricWarning: Precision is ill-defined and being set to 0.0 in labels with no predicted samples. Use `zero_division` parameter to control this behavior.\n",
      "  _warn_prf(average, modifier, f\"{metric.capitalize()} is\", len(result))\n",
      "C:\\Users\\yunus\\anaconda3\\Lib\\site-packages\\sklearn\\metrics\\_classification.py:1531: UndefinedMetricWarning: Precision is ill-defined and being set to 0.0 in labels with no predicted samples. Use `zero_division` parameter to control this behavior.\n",
      "  _warn_prf(average, modifier, f\"{metric.capitalize()} is\", len(result))\n",
      "C:\\Users\\yunus\\anaconda3\\Lib\\site-packages\\sklearn\\metrics\\_classification.py:1531: UndefinedMetricWarning: Precision is ill-defined and being set to 0.0 in labels with no predicted samples. Use `zero_division` parameter to control this behavior.\n",
      "  _warn_prf(average, modifier, f\"{metric.capitalize()} is\", len(result))\n"
     ]
    }
   ],
   "source": [
    "# Test verisi üzerinde tahmin yap\n",
    "y_pred = model.predict(X_test)\n",
    "\n",
    "# Sınıflandırma raporu\n",
    "print(\"🔍 Sınıflandırma Raporu:\")\n",
    "print(classification_report(y_test, y_pred, target_names=le.classes_))\n",
    "\n",
    "# Confusion matrix\n",
    "print(\"📊 Confusion Matrix:\")\n",
    "print(confusion_matrix(y_test, y_pred))\n"
   ]
  },
  {
   "cell_type": "code",
   "execution_count": 7,
   "id": "6202e290-61a1-43ca-afcf-778fde42bae4",
   "metadata": {},
   "outputs": [
    {
     "name": "stdout",
     "output_type": "stream",
     "text": [
      "🔁 Dengelenmiş Modelin Sınıflandırma Raporu:\n",
      "              precision    recall  f1-score   support\n",
      "\n",
      "      BENIGN       0.72      0.99      0.83       145\n",
      "  BruteForce       0.00      0.00      0.00         9\n",
      "        DDoS       0.00      0.00      0.00        29\n",
      "    PortScan       0.00      0.00      0.00        17\n",
      "\n",
      "    accuracy                           0.71       200\n",
      "   macro avg       0.18      0.25      0.21       200\n",
      "weighted avg       0.52      0.71      0.60       200\n",
      "\n",
      "📊 Confusion Matrix:\n",
      "[[143   0   1   1]\n",
      " [  9   0   0   0]\n",
      " [ 29   0   0   0]\n",
      " [ 17   0   0   0]]\n"
     ]
    },
    {
     "name": "stderr",
     "output_type": "stream",
     "text": [
      "C:\\Users\\yunus\\anaconda3\\Lib\\site-packages\\sklearn\\metrics\\_classification.py:1531: UndefinedMetricWarning: Precision is ill-defined and being set to 0.0 in labels with no predicted samples. Use `zero_division` parameter to control this behavior.\n",
      "  _warn_prf(average, modifier, f\"{metric.capitalize()} is\", len(result))\n",
      "C:\\Users\\yunus\\anaconda3\\Lib\\site-packages\\sklearn\\metrics\\_classification.py:1531: UndefinedMetricWarning: Precision is ill-defined and being set to 0.0 in labels with no predicted samples. Use `zero_division` parameter to control this behavior.\n",
      "  _warn_prf(average, modifier, f\"{metric.capitalize()} is\", len(result))\n",
      "C:\\Users\\yunus\\anaconda3\\Lib\\site-packages\\sklearn\\metrics\\_classification.py:1531: UndefinedMetricWarning: Precision is ill-defined and being set to 0.0 in labels with no predicted samples. Use `zero_division` parameter to control this behavior.\n",
      "  _warn_prf(average, modifier, f\"{metric.capitalize()} is\", len(result))\n"
     ]
    }
   ],
   "source": [
    "# Dengesiz sınıfları dikkate alarak model oluştur\n",
    "model_balanced = RandomForestClassifier(n_estimators=100, class_weight='balanced', random_state=42)\n",
    "model_balanced.fit(X_train, y_train)\n",
    "\n",
    "# Yeni tahminler\n",
    "y_pred_balanced = model_balanced.predict(X_test)\n",
    "\n",
    "# Performansı değerlendir\n",
    "print(\"🔁 Dengelenmiş Modelin Sınıflandırma Raporu:\")\n",
    "print(classification_report(y_test, y_pred_balanced, target_names=le.classes_))\n",
    "\n",
    "print(\"📊 Confusion Matrix:\")\n",
    "print(confusion_matrix(y_test, y_pred_balanced))\n"
   ]
  },
  {
   "cell_type": "code",
   "execution_count": 8,
   "id": "fffee17f-51de-43e3-9f1e-2868e1f9ab60",
   "metadata": {},
   "outputs": [
    {
     "name": "stdout",
     "output_type": "stream",
     "text": [
      "Dengelenmiş veri seti sınıf dağılımı:\n",
      "Label_encoded\n",
      "0    723\n",
      "3    723\n",
      "2    723\n",
      "1    723\n",
      "Name: count, dtype: int64\n"
     ]
    }
   ],
   "source": [
    "from imblearn.over_sampling import SMOTE\n",
    "\n",
    "# SMOTE uygulayarak sınıfları dengele\n",
    "smote = SMOTE(random_state=42)\n",
    "X_resampled, y_resampled = smote.fit_resample(X, y)\n",
    "\n",
    "# Yeni dengelenmiş veri ile eğitim/test seti oluştur\n",
    "X_train, X_test, y_train, y_test = train_test_split(\n",
    "    X_resampled, y_resampled, test_size=0.2, random_state=42, stratify=y_resampled\n",
    ")\n",
    "\n",
    "print(\"Dengelenmiş veri seti sınıf dağılımı:\")\n",
    "print(pd.Series(y_resampled).value_counts())\n"
   ]
  },
  {
   "cell_type": "code",
   "execution_count": 9,
   "id": "3ac8f11d-30a2-435a-aa61-092a8f357bf4",
   "metadata": {},
   "outputs": [
    {
     "name": "stdout",
     "output_type": "stream",
     "text": [
      "🎯 SMOTE Uygulandıktan Sonraki Sınıflandırma Raporu:\n",
      "              precision    recall  f1-score   support\n",
      "\n",
      "      BENIGN       0.76      0.61      0.68       145\n",
      "  BruteForce       0.86      0.96      0.91       144\n",
      "        DDoS       0.80      0.81      0.81       145\n",
      "    PortScan       0.81      0.87      0.84       145\n",
      "\n",
      "    accuracy                           0.81       579\n",
      "   macro avg       0.81      0.81      0.81       579\n",
      "weighted avg       0.81      0.81      0.81       579\n",
      "\n",
      "📊 Confusion Matrix:\n",
      "[[ 89   9  22  25]\n",
      " [  1 138   3   2]\n",
      " [ 20   5 118   2]\n",
      " [  7   8   4 126]]\n"
     ]
    }
   ],
   "source": [
    "# Yeni model oluştur ve eğit\n",
    "model_smote = RandomForestClassifier(n_estimators=100, random_state=42)\n",
    "model_smote.fit(X_train, y_train)\n",
    "\n",
    "# Tahmin yap\n",
    "y_pred_smote = model_smote.predict(X_test)\n",
    "\n",
    "# Performansı değerlendir\n",
    "print(\"🎯 SMOTE Uygulandıktan Sonraki Sınıflandırma Raporu:\")\n",
    "print(classification_report(y_test, y_pred_smote, target_names=le.classes_))\n",
    "\n",
    "print(\"📊 Confusion Matrix:\")\n",
    "print(confusion_matrix(y_test, y_pred_smote))\n"
   ]
  }
 ],
 "metadata": {
  "kernelspec": {
   "display_name": "Python 3 (ipykernel)",
   "language": "python",
   "name": "python3"
  },
  "language_info": {
   "codemirror_mode": {
    "name": "ipython",
    "version": 3
   },
   "file_extension": ".py",
   "mimetype": "text/x-python",
   "name": "python",
   "nbconvert_exporter": "python",
   "pygments_lexer": "ipython3",
   "version": "3.12.7"
  }
 },
 "nbformat": 4,
 "nbformat_minor": 5
}
